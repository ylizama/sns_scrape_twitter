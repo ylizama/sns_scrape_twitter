{
 "cells": [
  {
   "cell_type": "code",
   "execution_count": 23,
   "metadata": {},
   "outputs": [],
   "source": [
    "import csv"
   ]
  },
  {
   "cell_type": "markdown",
   "metadata": {},
   "source": [
    "## Using python endpoint to access content of the tweet. "
   ]
  },
  {
   "cell_type": "code",
   "execution_count": 31,
   "metadata": {},
   "outputs": [
    {
     "name": "stdout",
     "output_type": "stream",
     "text": [
      "0\n",
      "10000\n",
      "20000\n",
      "30000\n",
      "40000\n",
      "50000\n",
      "60000\n",
      "70000\n",
      "80000\n",
      "90000\n",
      "100000\n",
      "110000\n",
      "120000\n",
      "130000\n",
      "140000\n",
      "150000\n",
      "160000\n",
      "170000\n",
      "180000\n",
      "190000\n",
      "200000\n",
      "210000\n",
      "220000\n",
      "230000\n",
      "240000\n",
      "250000\n"
     ]
    }
   ],
   "source": [
    "import snscrape\n",
    "import snscrape.modules.twitter\n",
    "\n",
    "tweet_header = [\"id\", \"content\", \"renderedContent\", \"date\", \"url\", \"username\",\n",
    "                \"user\", \"outlinks\", \"tcooutlinks\", \"replyCount\", \"retweetCount\", \n",
    "                \"likeCount\", \"quoteCount\", \"conversationId\", \"lang\", \"source\", \n",
    "                \"media\", \"retweetedTweet\", \"quotedTweet\", \"mentionedUsers\"]\n",
    "tweets = []\n",
    "\n",
    "tweetfile = open(\"bancolombia_tweets_0.csv\", \"w\")\n",
    "tweet_writer = csv.writer(tweetfile, delimiter='|')\n",
    "tweet_writer.writerow(tweet_header)\n",
    "size = 10000\n",
    "\n",
    "for i, tweet in enumerate(snscrape.modules.twitter.TwitterSearchScraper('bancolombia since:2020-01-01 until:2020-08-31').get_items()):\n",
    "    if i%size != 0:\n",
    "        tweet_i = [ tweet.id, \n",
    "                    tweet.content if hasattr(tweet, 'content') else \"\",\n",
    "                    tweet.renderedContent if hasattr(tweet, 'renderedContent') else \"\",\n",
    "                    tweet.date if hasattr(tweet, 'date') else \"\",\n",
    "                    tweet.url if hasattr(tweet, 'url') else \"\", \n",
    "                    tweet.username if hasattr(tweet, 'username') else \"\",\n",
    "                    tweet.outlinks if hasattr(tweet, 'outlinks') else \"\", \n",
    "                    tweet.tcooutlinks if hasattr(tweet, 'tcooutlinks') else \"\", \n",
    "                    tweet.replyCount if hasattr(tweet, 'replyCount') else \"\", \n",
    "                    tweet.retweetCount if hasattr(tweet, 'retweetCount') else \"\", \n",
    "                    tweet.likeCount if hasattr(tweet, 'likeCount') else \"\", \n",
    "                    tweet.quoteCount if hasattr(tweet, 'quoteCount') else \"\", \n",
    "                    tweet.conversationId if hasattr(tweet, 'conversationId') else \"\", \n",
    "                    tweet.lang if hasattr(tweet, 'lang') else \"\", \n",
    "                    tweet.source if hasattr(tweet, 'source') else \"\", \n",
    "                    tweet.media if hasattr(tweet, 'media') else \"\", \n",
    "                    tweet.retweetedTweet if hasattr(tweet, 'retweetedTweet') else \"\", \n",
    "                    tweet.quotedTweet if hasattr(tweet, 'quotedTweet') else \"\", \n",
    "                    tweet.mentionedUsers if hasattr(tweet, 'mentionedUsers') else \"\"]\n",
    "        \n",
    "        tweet_writer.writerow(tweet_i)\n",
    "        \n",
    "    else: \n",
    "        tweetfile.close()\n",
    "        tweetfile = open(\"bancolombia_tweets_\"+ str(int(i/size)) +\".csv\", \"w\")\n",
    "        tweet_writer = csv.writer(tweetfile, delimiter='|')\n",
    "        tweet_writer.writerow(tweet_header)\n",
    "        print(i)"
   ]
  },
  {
   "cell_type": "markdown",
   "metadata": {},
   "source": [
    "## Using the --json option."
   ]
  },
  {
   "cell_type": "code",
   "execution_count": 37,
   "metadata": {},
   "outputs": [],
   "source": [
    "# Para esto hay que instalar la version en desarrollo porque la de despliegue no soporta la función todavía. \n",
    "# Downloading in a monthly basis to avoid rate limit restrictions. \n",
    "#extracting data of some days that were missing."
   ]
  },
  {
   "cell_type": "code",
   "execution_count": 1,
   "metadata": {},
   "outputs": [],
   "source": [
    "!snscrape --jsonl twitter-search \"bancolombia since:2020-03-18 until:2020-03-19\"> data/bancolombia_March18.json"
   ]
  },
  {
   "cell_type": "code",
   "execution_count": 2,
   "metadata": {},
   "outputs": [],
   "source": [
    "!snscrape --jsonl twitter-search \"bancolombia since:2020-03-21 until:2020-03-22\"> data/bancolombia_March21.json"
   ]
  },
  {
   "cell_type": "code",
   "execution_count": 3,
   "metadata": {},
   "outputs": [],
   "source": [
    "!snscrape --jsonl twitter-search \"bancolombia since:2020-03-25 until:2020-03-26\"> data/bancolombia_March25.json"
   ]
  },
  {
   "cell_type": "code",
   "execution_count": 4,
   "metadata": {},
   "outputs": [],
   "source": [
    "!snscrape --jsonl twitter-search \"bancolombia since:2020-03-31 until:2020-04-01\"> data/bancolombia_March31.json"
   ]
  },
  {
   "cell_type": "code",
   "execution_count": 5,
   "metadata": {},
   "outputs": [],
   "source": [
    "!snscrape --jsonl twitter-search \"bancolombia since:2020-04-07 until:2020-04-08\"> data/bancolombia_April7.json"
   ]
  },
  {
   "cell_type": "code",
   "execution_count": 6,
   "metadata": {},
   "outputs": [],
   "source": [
    "!snscrape --jsonl twitter-search \"bancolombia since:2020-04-14 until:2020-04-15\"> data/bancolombia_April14.json"
   ]
  },
  {
   "cell_type": "code",
   "execution_count": 7,
   "metadata": {},
   "outputs": [],
   "source": [
    "!snscrape --jsonl twitter-search \"bancolombia since:2020-04-21 until:2020-04-22\"> data/bancolombia_April21.json"
   ]
  },
  {
   "cell_type": "code",
   "execution_count": 8,
   "metadata": {},
   "outputs": [],
   "source": [
    "!snscrape --jsonl twitter-search \"bancolombia since:2020-04-30 until:2020-05-01\"> data/bancolombia_April30.json"
   ]
  },
  {
   "cell_type": "code",
   "execution_count": 9,
   "metadata": {},
   "outputs": [],
   "source": [
    "!snscrape --jsonl twitter-search \"bancolombia since:2020-05-07 until:2020-05-08\"> data/bancolombia_May7.json"
   ]
  },
  {
   "cell_type": "code",
   "execution_count": 10,
   "metadata": {},
   "outputs": [],
   "source": [
    "\n",
    "!snscrape --jsonl twitter-search \"bancolombia since:2020-05-15 until:2020-05-16\"> data/bancolombia_May15.json"
   ]
  },
  {
   "cell_type": "code",
   "execution_count": 11,
   "metadata": {},
   "outputs": [],
   "source": [
    "\n",
    "!snscrape --jsonl twitter-search \"bancolombia since:2020-05-22 until:2020-05-23\"> data/bancolombia_May22.json"
   ]
  },
  {
   "cell_type": "code",
   "execution_count": 12,
   "metadata": {},
   "outputs": [],
   "source": [
    "\n",
    "!snscrape --jsonl twitter-search \"bancolombia since:2020-05-31 until:2020-06-01\"> data/bancolombia_May31.json"
   ]
  },
  {
   "cell_type": "code",
   "execution_count": 13,
   "metadata": {},
   "outputs": [],
   "source": [
    "!snscrape --jsonl twitter-search \"bancolombia since:2020-06-07 until:2020-06-08\"> data/bancolombia_June7.json"
   ]
  },
  {
   "cell_type": "code",
   "execution_count": 14,
   "metadata": {},
   "outputs": [],
   "source": [
    "!snscrape --jsonl twitter-search \"bancolombia since:2020-06-15 until:2020-06-16\"> data/bancolombia_June15.json"
   ]
  },
  {
   "cell_type": "code",
   "execution_count": 15,
   "metadata": {},
   "outputs": [],
   "source": [
    "!snscrape --jsonl twitter-search \"bancolombia since:2020-06-22 until:2020-06-23\"> data/bancolombia_June22.json"
   ]
  },
  {
   "cell_type": "code",
   "execution_count": 16,
   "metadata": {},
   "outputs": [],
   "source": [
    "!snscrape --jsonl twitter-search \"bancolombia since:2020-06-30 until:2020-07-01\"> data/bancolombia_June31.json"
   ]
  },
  {
   "cell_type": "code",
   "execution_count": 17,
   "metadata": {},
   "outputs": [],
   "source": [
    "!snscrape --jsonl twitter-search \"bancolombia since:2020-07-07 until:2020-07-08\"> data/bancolombia_July7.json"
   ]
  },
  {
   "cell_type": "code",
   "execution_count": 18,
   "metadata": {},
   "outputs": [],
   "source": [
    "!snscrape --jsonl twitter-search \"bancolombia since:2020-07-15 until:2020-07-16\"> data/bancolombia_July15.json"
   ]
  },
  {
   "cell_type": "code",
   "execution_count": 19,
   "metadata": {},
   "outputs": [],
   "source": [
    "!snscrape --jsonl twitter-search \"bancolombia since:2020-07-22 until:2020-07-23\"> data/bancolombia_July22.json"
   ]
  },
  {
   "cell_type": "code",
   "execution_count": 20,
   "metadata": {},
   "outputs": [],
   "source": [
    "!snscrape --jsonl twitter-search \"bancolombia since:2020-07-31 until:2020-08-01\"> data/bancolombia_July31.json"
   ]
  },
  {
   "cell_type": "code",
   "execution_count": 21,
   "metadata": {},
   "outputs": [],
   "source": [
    "!snscrape --jsonl twitter-search \"bancolombia since:2020-08-03 until:2020-08-04\"> data/bancolombia_August03.json"
   ]
  },
  {
   "cell_type": "code",
   "execution_count": 22,
   "metadata": {},
   "outputs": [],
   "source": [
    "!snscrape --jsonl twitter-search \"bancolombia since:2020-08-05 until:2020-08-06\"> data/bancolombia_August05.json"
   ]
  },
  {
   "cell_type": "code",
   "execution_count": null,
   "metadata": {},
   "outputs": [],
   "source": []
  }
 ],
 "metadata": {
  "kernelspec": {
   "display_name": "Python 3",
   "language": "python",
   "name": "python3"
  },
  "language_info": {
   "codemirror_mode": {
    "name": "ipython",
    "version": 3
   },
   "file_extension": ".py",
   "mimetype": "text/x-python",
   "name": "python",
   "nbconvert_exporter": "python",
   "pygments_lexer": "ipython3",
   "version": "3.8.0"
  }
 },
 "nbformat": 4,
 "nbformat_minor": 2
}
